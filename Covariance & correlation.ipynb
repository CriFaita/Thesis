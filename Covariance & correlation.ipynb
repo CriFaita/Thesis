{
 "cells": [
  {
   "cell_type": "code",
   "execution_count": 2,
   "id": "245bdd82",
   "metadata": {},
   "outputs": [
    {
     "name": "stderr",
     "output_type": "stream",
     "text": [
      "C:\\Users\\acer\\miniconda3\\lib\\site-packages\\numpy\\_distributor_init.py:30: UserWarning: loaded more than 1 DLL from .libs:\n",
      "C:\\Users\\acer\\miniconda3\\lib\\site-packages\\numpy\\.libs\\libopenblas.PYQHXLVVQ7VESDPUVUADXEVJOBGHJPAY.gfortran-win_amd64.dll\n",
      "C:\\Users\\acer\\miniconda3\\lib\\site-packages\\numpy\\.libs\\libopenblas.WCDJNK7YVMPZQ2ME2ZZHJJRJ3JIKNDB7.gfortran-win_amd64.dll\n",
      "  warnings.warn(\"loaded more than 1 DLL from .libs:\"\n"
     ]
    }
   ],
   "source": [
    "import pandas as pd\n",
    "import matplotlib.pyplot as plt\n",
    "%matplotlib inline\n",
    "plt.rcParams[\"figure.figsize\"] = [15, 5]\n",
    "\n",
    "import yfinance as yf\n",
    "import pandas as pd\n",
    "import sklearn\n",
    "import numpy as np\n",
    "from scipy import stats\n",
    "import matplotlib.pyplot as plt\n",
    "from sklearn import preprocessing\n",
    "from sklearn.metrics import mean_squared_error\n",
    "from math import sqrt"
   ]
  },
  {
   "cell_type": "code",
   "execution_count": 83,
   "id": "0f809602",
   "metadata": {},
   "outputs": [],
   "source": [
    "# import the tweet dataset\n",
    "\n",
    "df = pd.read_csv('tweet_dset.csv')\n",
    "df = df[df['ticker'] == '$AAPL']"
   ]
  },
  {
   "cell_type": "code",
   "execution_count": 84,
   "id": "ae2bed46",
   "metadata": {},
   "outputs": [],
   "source": [
    "df['ctime'] = pd.to_datetime(df['date_time'], unit='s')\n",
    "df = df.set_index('ctime')\n",
    "mean = df['sentiment'].resample('1d').mean()"
   ]
  },
  {
   "cell_type": "code",
   "execution_count": 85,
   "id": "71722d37",
   "metadata": {},
   "outputs": [],
   "source": [
    "# delete weekends\n",
    "\n",
    "bdays = mean[mean.index.dayofweek < 5]"
   ]
  },
  {
   "cell_type": "code",
   "execution_count": 86,
   "id": "f66151ca",
   "metadata": {},
   "outputs": [],
   "source": [
    "# download stock values and compute returns\n",
    "\n",
    "apl = yf.Ticker(\"AAPL\")\n",
    "apple = apl.history(start=\"2021-06-23\", end=\"2021-07-28\", interval=\"1d\")\n",
    "\n",
    "returns = apple['Close'] + apple['Dividends']"
   ]
  },
  {
   "cell_type": "code",
   "execution_count": 87,
   "id": "77ce305e",
   "metadata": {},
   "outputs": [],
   "source": [
    "diff = returns.diff()\n",
    "Diff = diff.dropna()"
   ]
  },
  {
   "cell_type": "code",
   "execution_count": 88,
   "id": "44dc839f",
   "metadata": {},
   "outputs": [
    {
     "name": "stdout",
     "output_type": "stream",
     "text": [
      "24 25 34 24\n"
     ]
    }
   ],
   "source": [
    "# check and always use dataframe of equal lenght\n",
    "\n",
    "print(len(Diff), len(diff), len(mean), len(bdays))"
   ]
  },
  {
   "cell_type": "code",
   "execution_count": 89,
   "id": "a90d22c7",
   "metadata": {},
   "outputs": [
    {
     "data": {
      "image/png": "[encoded data removed]",
      "text/plain": [
       "<Figure size 1080x360 with 1 Axes>"
      ]
     },
     "metadata": {
      "needs_background": "light"
     },
     "output_type": "display_data"
    }
   ],
   "source": [
    "# scatterplot\n",
    "plt.scatter(bdays, Diff)\n",
    "plt.title(\"Fig.31: Apple's returns by sentiment\", style='italic')\n",
    "plt.ylabel('Returns')\n",
    "plt.xlabel('Sentiment')\n",
    "plt.show()"
   ]
  },
  {
   "cell_type": "code",
   "execution_count": 90,
   "id": "5e1bb208",
   "metadata": {},
   "outputs": [
    {
     "name": "stdout",
     "output_type": "stream",
     "text": [
      "[[6.39195875e-04 1.38571716e-02]\n",
      " [1.38571716e-02 3.51661198e+00]]\n"
     ]
    }
   ],
   "source": [
    "# covariance\n",
    "covariance = np.cov(bdays, Diff)\n",
    "print(covariance)"
   ]
  },
  {
   "cell_type": "code",
   "execution_count": 91,
   "id": "98a95b9c",
   "metadata": {},
   "outputs": [
    {
     "name": "stdout",
     "output_type": "stream",
     "text": [
      "Pearsons correlation: 0.292\n"
     ]
    }
   ],
   "source": [
    "# pearson's correlation\n",
    "from scipy.stats import pearsonr\n",
    "\n",
    "corr, _ = pearsonr(bdays, Diff)\n",
    "print('Pearsons correlation: %.3f' % corr)"
   ]
  }
 ],
 "metadata": {
  "kernelspec": {
   "display_name": "Python 3",
   "language": "python",
   "name": "python3"
  },
  "language_info": {
   "codemirror_mode": {
    "name": "ipython",
    "version": 3
   },
   "file_extension": ".py",
   "mimetype": "text/x-python",
   "name": "python",
   "nbconvert_exporter": "python",
   "pygments_lexer": "ipython3",
   "version": "3.8.0"
  }
 },
 "nbformat": 4,
 "nbformat_minor": 5
}
